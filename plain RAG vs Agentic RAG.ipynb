{
 "cells": [
  {
   "cell_type": "code",
   "execution_count": 244,
   "id": "03785209-1ac5-4b84-9ee6-09ecdf1ab731",
   "metadata": {},
   "outputs": [],
   "source": [
    "from langchain import OpenAI\n",
    "import os\n",
    "from typing import Dict, TypedDict, Optional, Annotated, Union\n",
    "from langchain.prompts import PromptTemplate\n",
    "import re\n",
    "from langchain_core.prompts.chat import (\n",
    "    ChatPromptTemplate,\n",
    "    MessagesPlaceholder,\n",
    "    HumanMessagePromptTemplate,\n",
    "    SystemMessagePromptTemplate,\n",
    ")\n",
    "from langchain_openai import ChatOpenAI, AzureChatOpenAI\n",
    "import openai\n",
    "from langchain_core.output_parsers import StrOutputParser, JsonOutputParser\n",
    "from dotenv import load_dotenv\n",
    "from langchain_core.pydantic_v1 import BaseModel, Field\n",
    "\n",
    "# Agent\n",
    "\n",
    "from langchain.tools import BaseTool\n",
    "from langchain.agents import AgentExecutor\n",
    "import langchain\n",
    "\n",
    "from langchain.agents import AgentExecutor, create_react_agent, Tool\n",
    "\n",
    "\n",
    "from langchain.callbacks.manager import (\n",
    "    AsyncCallbackManagerForToolRun,\n",
    "    CallbackManagerForToolRun,\n",
    ")\n",
    "\n",
    "from langchain_core.runnables import RunnableLambda\n",
    "import json\n",
    "from langchain_community.document_loaders import TextLoader\n",
    "from langchain_openai import OpenAIEmbeddings\n",
    "from langchain_text_splitters import CharacterTextSplitter\n",
    "from langchain.memory import ConversationBufferMemory\n",
    "from langchain_core.runnables import RunnableParallel, RunnablePassthrough\n",
    "from operator import itemgetter\n"
   ]
  },
  {
   "cell_type": "code",
   "execution_count": 245,
   "id": "a5fedef2-e5b3-4992-b8df-96a0a9e73251",
   "metadata": {},
   "outputs": [],
   "source": [
    "# Debug langchain logs, True if yes else set false\n",
    "langchain.debug = False"
   ]
  },
  {
   "cell_type": "markdown",
   "id": "a5c9926a-e2d6-491b-a728-92cc90892e53",
   "metadata": {},
   "source": [
    "## Retrieval Component"
   ]
  },
  {
   "cell_type": "code",
   "execution_count": 251,
   "id": "248ae79d-6697-4ba5-a751-39faadd6ebc3",
   "metadata": {},
   "outputs": [],
   "source": [
    "\n",
    "# Load the document, split it into chunks, embed each chunk and load it into the vector store.\n",
    "raw_documents = TextLoader('para_olympics.txt').load()\n",
    "# choose chunk size and chunk overlap\n",
    "text_splitter = CharacterTextSplitter(chunk_size=2000, chunk_overlap=500)\n",
    "documents = text_splitter.split_documents(raw_documents)"
   ]
  },
  {
   "cell_type": "code",
   "execution_count": 252,
   "id": "2289dafc-e091-4a57-9602-79c51a5c05ad",
   "metadata": {},
   "outputs": [
    {
     "name": "stdout",
     "output_type": "stream",
     "text": [
      "No. of chunks created 4\n"
     ]
    }
   ],
   "source": [
    "# check the splitted docs\n",
    "print(\"No. of chunks created\", len(documents))"
   ]
  },
  {
   "cell_type": "code",
   "execution_count": 253,
   "id": "2a254a76-ebdb-484b-bbb8-e1651f31af3f",
   "metadata": {},
   "outputs": [
    {
     "data": {
      "text/plain": [
       "True"
      ]
     },
     "execution_count": 253,
     "metadata": {},
     "output_type": "execute_result"
    }
   ],
   "source": [
    "load_dotenv()"
   ]
  },
  {
   "cell_type": "code",
   "execution_count": 254,
   "id": "a0f12852-0456-4301-90db-9dc0d0c4b292",
   "metadata": {},
   "outputs": [],
   "source": [
    "OPENAI_KEY=os.getenv(\"OPENAI_KEY\")\n",
    "OPENAI_URL=os.getenv(\"OPENAI_URL\")\n",
    "openai_api_version=os.getenv(\"openai_api_version\")\n",
    "azure_deployment=os.getenv(\"azure_deployment\")"
   ]
  },
  {
   "cell_type": "code",
   "execution_count": 255,
   "id": "9c5dd062-53f9-48b6-87ef-487487fb3d2f",
   "metadata": {},
   "outputs": [],
   "source": [
    "from langchain_openai import AzureChatOpenAI, AzureOpenAIEmbeddings\n",
    "import numpy as np\n",
    "embedding = AzureOpenAIEmbeddings(\n",
    "    azure_deployment=\"text-embedding-ada-002\",\n",
    "    chunk_size=1,\n",
    "    api_key =OPENAI_KEY,\n",
    "    azure_endpoint =OPENAI_URL\n",
    ")"
   ]
  },
  {
   "cell_type": "code",
   "execution_count": 256,
   "id": "0f5f3856-deb4-4919-9c62-78324d16d874",
   "metadata": {},
   "outputs": [],
   "source": [
    "from langchain_community.vectorstores import FAISS\n",
    "\n",
    "vectorstore = FAISS.from_documents(documents, embedding)"
   ]
  },
  {
   "cell_type": "code",
   "execution_count": 257,
   "id": "684208f7-afd4-46fe-b98e-af4556437a38",
   "metadata": {},
   "outputs": [
    {
     "data": {
      "text/plain": [
       "{'3629fc06-2963-4c74-a412-5b4a30fc72fc': Document(metadata={'source': 'para_olympics.txt'}, page_content='## Introduction\\n\\nThe Paris 2024 Paralympic Games, scheduled to take place from August 28 to September 8, 2024, will mark a significant milestone in the history of the Paralympic movement. As the first Paralympic Games to be held in Paris, this event is expected to showcase the extraordinary talents of over 4,000 athletes from around the globe, competing in 549 medal events across 22 sports. This essay explores the significance of the 2024 Paralympics, the sports involved, the athletes to watch, the event\\'s historical context, and its impact on society.\\n\\n## Historical Context of the Paralympic Games\\n\\nThe Paralympic Games have evolved significantly since their inception. The first official Paralympic Games were held in Rome in 1960, featuring 400 athletes from 23 countries. This event was rooted in the Stoke Mandeville Games, organized by Dr. Ludwig Guttmann in 1948 to aid the rehabilitation of World War II veterans. The term \"Paralympic\" derives from the Greek word \"para,\" meaning \"beside\" or \"alongside,\" indicating that the Paralympics exist alongside the Olympic Games, not in competition with them[4][7].\\n\\nOver the decades, the Paralympics have grown in scale and visibility, becoming one of the largest international sporting events. The agreement between the International Paralympic Committee (IPC) and the International Olympic Committee (IOC) to host the Paralympic Games in the same cities and venues as the Olympics has significantly enhanced the profile of the Paralympics[5][7]. This integration has fostered greater public awareness and appreciation for athletes with disabilities.'),\n",
       " 'ad4ae34f-6037-4738-a4c6-bb2adbbe55dd': Document(metadata={'source': 'para_olympics.txt'}, page_content='Over the decades, the Paralympics have grown in scale and visibility, becoming one of the largest international sporting events. The agreement between the International Paralympic Committee (IPC) and the International Olympic Committee (IOC) to host the Paralympic Games in the same cities and venues as the Olympics has significantly enhanced the profile of the Paralympics[5][7]. This integration has fostered greater public awareness and appreciation for athletes with disabilities.\\n\\n## Summer Paralympic Games Host Cities\\nYear\\tHost City\\tCountry\\n1960\\tRome\\tItaly\\n1964\\tTokyo\\tJapan\\n1968\\tTel Aviv\\tIsrael\\n1972\\tHeidelberg\\tWest Germany\\n1976\\tToronto\\tCanada\\n1980\\tArnhem\\tNetherlands\\n1984\\tStoke Mandeville & New York\\tUnited Kingdom & USA\\n1988\\tSeoul\\tSouth Korea\\n1992\\tBarcelona\\tSpain\\n1996\\tAtlanta\\tUSA\\n2000\\tSydney\\tAustralia\\n2004\\tAthens\\tGreece\\n2008\\tBeijing\\tChina\\n2012\\tLondon\\tUnited Kingdom\\n2016\\tRio de Janeiro\\tBrazil\\n2020\\tTokyo\\tJapan (held in 2021)\\n2024\\tParis\\tFrance\\n2028\\tLos Angeles\\tUSA\\n2032\\tBrisbane\\tAustralia\\n\\n\\n## The Significance of Paris 2024\\n\\nThe Paris 2024 Paralympic Games symbolize a commitment to inclusivity and diversity in sports. The event is expected to break new ground in terms of media coverage and public engagement, building on the momentum generated by previous Games. The IPC has reported an increase in interest from broadcasters, with rights deals covering 75% of the world well in advance of the Games, compared to previous years where deals were often last-minute[4][5].\\n\\nThe Games are not just about competition; they are also a platform for raising awareness about disability issues and promoting social change. The Paris 2024 Games aim to inspire future generations by showcasing the incredible capabilities of athletes with disabilities and challenging societal perceptions of disability[5][6].\\n\\n## Sports Featured in Paris 2024\\n\\nThe Paris 2024 Paralympic Games will feature 22 sports, including:'),\n",
       " 'f623c921-e28e-4a03-b914-3ce75438521d': Document(metadata={'source': 'para_olympics.txt'}, page_content=\"The Games are not just about competition; they are also a platform for raising awareness about disability issues and promoting social change. The Paris 2024 Games aim to inspire future generations by showcasing the incredible capabilities of athletes with disabilities and challenging societal perceptions of disability[5][6].\\n\\n## Sports Featured in Paris 2024\\n\\nThe Paris 2024 Paralympic Games will feature 22 sports, including:\\n\\n- **Para Athletics**\\n- **Para Swimming**\\n- **Wheelchair Basketball**\\n- **Wheelchair Rugby**\\n- **Para Cycling**\\n- **Para Archery**\\n- **Para Badminton**\\n- **Goalball**\\n- **Sitting Volleyball**\\n- **Para Judo**\\n- **Para Powerlifting**\\n- **Para Rowing**\\n- **Shooting Para Sport**\\n- **Para Table Tennis**\\n- **Para Taekwondo**\\n- **Para Triathlon**\\n- **Boccia**\\n- **Para Canoe**\\n- **Wheelchair Fencing**\\n- **Wheelchair Tennis**\\n- **Blind Football**\\n\\nEach sport has its unique set of rules and classifications to ensure fair competition among athletes with varying disabilities. The classification system is crucial in maintaining the integrity of the competition, allowing athletes to compete on a level playing field[5][7].\\n\\n### Highlights of Sports\\n\\n**Para Athletics** will be one of the most anticipated events, featuring a wide range of track and field disciplines. Athletes will compete in various categories based on their disabilities, showcasing their speed, strength, and agility.\\n\\n**Para Swimming** is another highlight, with over 600 athletes expected to compete in 141 medal events. This sport has a rich history within the Paralympic movement and continues to attract significant attention.\\n\\n**Wheelchair Basketball** and **Wheelchair Rugby** are popular team sports that demonstrate the athletes' skill and teamwork. These sports have a dedicated following and are known for their intensity and competitiveness.\\n\\n## Athletes to Watch\"),\n",
       " 'cdc27712-8b77-436d-b883-c49a8658d73f': Document(metadata={'source': 'para_olympics.txt'}, page_content=\"**Para Swimming** is another highlight, with over 600 athletes expected to compete in 141 medal events. This sport has a rich history within the Paralympic movement and continues to attract significant attention.\\n\\n**Wheelchair Basketball** and **Wheelchair Rugby** are popular team sports that demonstrate the athletes' skill and teamwork. These sports have a dedicated following and are known for their intensity and competitiveness.\\n\\n## Athletes to Watch\\n\\nAmong the many talented athletes expected to compete at the Paris 2024 Paralympics, several stand out due to their previous achievements and potential for success:\\n\\n- **Simone Barlaam** (Italy) - A star in Para swimming, Barlaam aims to enjoy the experience while competing for medals.\\n  \\n- **Carlos Serrano** (Colombia) - A two-time Paralympic champion, Serrano is focused on making his family proud in Paris.\\n\\n- **Takayuki Suzuki** (Japan) - A seasoned swimmer, Suzuki is aiming for success at his sixth Paralympic Games after winning five medals in Tokyo 2020.\\n\\n- **Chen** (China) - A Para archer who has already claimed two gold medals, Chen is targeting a world record at the upcoming Games.\\n\\nThese athletes, among many others, will not only compete for medals but also serve as role models, inspiring others with disabilities to pursue their dreams in sports and beyond.\\n\\n\\nmedal country wise in paraolympics:\\n\\nThe medal tally for the Paris 2024 Paralympics, which took place from August 28 to September 8, 2024, showcases the achievements of numerous countries across various sports. Here is the medal distribution by country:\\nRank\\tCountry\\tGold\\tSilver\\tBronze\\tTotal\\n1\\tChina\\t94\\t76\\t50\\t220\\n2\\tGreat Britain\\t49\\t44\\t31\\t124\\n3\\tUnited States\\t36\\t42\\t27\\t105\\n4\\tNetherlands\\t27\\t17\\t12\\t56\\n5\\tNeutral Paralympic Athletes\\t26\\t22\\t23\\t71\\n6\\tBrazil\\t25\\t26\\t38\\t89\\n7\\tItaly\\t24\\t15\\t32\\t71\\n8\\tUkraine\\t22\\t28\\t32\\t82\\n9\\tFrance\\t19\\t28\\t28\\t75\\n10\\tAustralia\\t18\\t17\\t28\\t63\\n11\\tJapan\\t14\\t10\\t17\\t41\\n12\\tRemaining NPCs (85)\\t195\\t226\\t289\\t710\")}"
      ]
     },
     "execution_count": 257,
     "metadata": {},
     "output_type": "execute_result"
    }
   ],
   "source": [
    "# view vector store\n",
    "vectorstore.docstore._dict"
   ]
  },
  {
   "cell_type": "markdown",
   "id": "d1eef2c8-e0e8-4d64-a84e-081b98ebe0f0",
   "metadata": {},
   "source": [
    "## Augumented Component"
   ]
  },
  {
   "cell_type": "code",
   "execution_count": 258,
   "id": "9196d99b-a1e6-4518-a96f-f295caec4e92",
   "metadata": {},
   "outputs": [],
   "source": [
    "# retriever setup\n",
    "retriever = vectorstore.as_retriever(\n",
    "    search_type=\"similarity_score_threshold\", search_kwargs={\"score_threshold\": 0.7, \"k\":1}\n",
    ") | format_docs"
   ]
  },
  {
   "cell_type": "code",
   "execution_count": 259,
   "id": "332dc206-12a3-4d5a-9d6f-ef5d0e516080",
   "metadata": {},
   "outputs": [
    {
     "name": "stderr",
     "output_type": "stream",
     "text": [
      "/Users/shyamsi1-dhl/workspace/projects/AI/GEN-AI/lang-chain-project/venv/lib/python3.12/site-packages/langchain_core/vectorstores/base.py:745: UserWarning: No relevant docs were retrieved using the relevance score threshold 0.7\n",
      "  warnings.warn(\n"
     ]
    }
   ],
   "source": [
    "docs = retriever.invoke(\"when it hosted this game?\")"
   ]
  },
  {
   "cell_type": "code",
   "execution_count": 260,
   "id": "0aa6cca4-b262-4665-a4e3-0c4e1efee4cc",
   "metadata": {},
   "outputs": [],
   "source": [
    "# format docs\n",
    "def format_docs(docs):\n",
    "    return \"\\n\\n\".join(doc.page_content for doc in docs)"
   ]
  },
  {
   "cell_type": "markdown",
   "id": "ed63d8d5-227a-46ae-9ff2-4e079d6bed3b",
   "metadata": {},
   "source": [
    "## Generation Component"
   ]
  },
  {
   "cell_type": "code",
   "execution_count": 261,
   "id": "9bb00050-1caf-43ac-b377-3d36a7d3d2fa",
   "metadata": {},
   "outputs": [],
   "source": [
    "# k - no of latest conversation in memory\n",
    "memory = ConversationBufferMemory(memory_key=\"chat_history\",  k=5,return_messages=True)"
   ]
  },
  {
   "cell_type": "code",
   "execution_count": 262,
   "id": "cd038e78-6b7f-42e6-ba9e-847a2fe79463",
   "metadata": {},
   "outputs": [
    {
     "data": {
      "text/plain": [
       "{'chat_history': []}"
      ]
     },
     "execution_count": 262,
     "metadata": {},
     "output_type": "execute_result"
    }
   ],
   "source": [
    "# check if there is any message\n",
    "memory.load_memory_variables({})"
   ]
  },
  {
   "cell_type": "code",
   "execution_count": 263,
   "id": "3264846f-0673-4fa6-9fb5-2c6d767b0700",
   "metadata": {},
   "outputs": [],
   "source": [
    "# llm model instance\n",
    "llm = AzureChatOpenAI(\n",
    "        api_key=OPENAI_KEY,\n",
    "        azure_endpoint=OPENAI_URL,\n",
    "        openai_api_version=openai_api_version,\n",
    "        azure_deployment=azure_deployment,\n",
    "        temperature=0,\n",
    "        verbose=True,\n",
    "        model_kwargs={},\n",
    "    )"
   ]
  },
  {
   "cell_type": "code",
   "execution_count": 264,
   "id": "7ba799d1-e6e3-4186-8513-d8c0722438c3",
   "metadata": {},
   "outputs": [],
   "source": [
    "# prompt\n",
    "system_prompt = (\n",
    "    \"\"\"\n",
    "    You are an assistant for question-answering tasks. Use the following pieces of retrieved context to answer \n",
    "    the question. If you don't know the answer, say that you don't know. Use three sentences maximum and keep the answer concise.\\n\\n\n",
    "    context:```{context}```\n",
    "    \"\"\"\n",
    ")\n",
    "\n",
    "prompt = ChatPromptTemplate.from_messages(\n",
    "    [\n",
    "        (\"system\", system_prompt),\n",
    "        MessagesPlaceholder(variable_name=\"chat_history\"),\n",
    "        (\"human\", \"{question}\"),\n",
    "    ]\n",
    ")\n",
    "\n"
   ]
  },
  {
   "cell_type": "code",
   "execution_count": 265,
   "id": "343b0062-4ef0-4f8b-8c3c-4d2d7e5e513d",
   "metadata": {},
   "outputs": [
    {
     "data": {
      "text/plain": [
       "'The medal distribution by country for the Paris 2024 Paralympics is as follows:\\n1. China: 94 Gold, 76 Silver, 50 Bronze, Total 220\\n2. Great Britain: 49 Gold, 44 Silver, 31 Bronze, Total 124\\n3. United States: 36 Gold, 42 Silver, 27 Bronze, Total 105\\n4. Netherlands: 27 Gold, 17 Silver, 12 Bronze, Total 56\\n5. Neutral Paralympic Athletes: 26 Gold, 22 Silver, 23 Bronze, Total 71\\n6. Brazil: 25 Gold, 26 Silver, 38 Bronze, Total 89\\n7. Italy: 24 Gold, 15 Silver, 32 Bronze, Total 71\\n8. Ukraine: 22 Gold, 28 Silver, 32 Bronze, Total 82\\n9. France: 19 Gold, 28 Silver, 28 Bronze, Total 75\\n10. Australia: 18 Gold, 17 Silver, 28 Bronze, Total 63\\n11. Japan: 14 Gold, 10 Silver, 17 Bronze, Total 41\\n12. Remaining NPCs (85): 195 Gold, 226 Silver, 289 Bronze, Total 710'"
      ]
     },
     "execution_count": 265,
     "metadata": {},
     "output_type": "execute_result"
    }
   ],
   "source": [
    "retrieval = RunnableParallel(\n",
    "    {\"context\": itemgetter(\"question\")| retriever, \"question\": itemgetter(\"question\") , \"chat_history\": itemgetter(\"chat_history\")}\n",
    ")\n",
    "\n",
    "rag_chain = retrieval | prompt | llm  | StrOutputParser()\n",
    "\n",
    "rag_chain.invoke({\"question\":\"medal country wise in paraolympics\", \"chat_history\":memory.load_memory_variables({})['chat_history']})"
   ]
  },
  {
   "cell_type": "markdown",
   "id": "1385b895-482d-4eed-b8bd-977048ac1873",
   "metadata": {},
   "source": [
    "## Plain RAG Q&A App"
   ]
  },
  {
   "cell_type": "code",
   "execution_count": 266,
   "id": "59a36585-8567-463e-a585-4eb77c43840b",
   "metadata": {},
   "outputs": [
    {
     "name": "stdin",
     "output_type": "stream",
     "text": [
      "Enter text for Para Olympic Q&A with memory  (press 'q' to quit):  q\n"
     ]
    },
    {
     "name": "stdout",
     "output_type": "stream",
     "text": [
      "Exiting the app\n"
     ]
    }
   ],
   "source": [
    "user_input = \"\"\n",
    "while user_input != \"q\":\n",
    "    user_input = input(\"Enter text for Para Olympic Q&A with memory  (press 'q' to quit): \")\n",
    "    if user_input == \"q\":\n",
    "        print('Exiting the app')\n",
    "        # clear the buffer memory\n",
    "        memory.clear()\n",
    "        break\n",
    "    memory_result = rag_chain.invoke({\"question\":user_input, \"chat_history\":memory.load_memory_variables({})['chat_history']})\n",
    "    print(\"AI:\", memory_result)\n",
    "\n",
    "    memory.chat_memory.add_user_message(user_input)\n",
    "    memory.chat_memory.add_ai_message(memory_result)"
   ]
  },
  {
   "cell_type": "markdown",
   "id": "ebbf3e84-28dc-4752-bd49-2ea5208da73a",
   "metadata": {},
   "source": [
    "# Issue with RAG\n",
    "### 1 : Rephrasing questions\n",
    "Not all questions can be found in docs"
   ]
  },
  {
   "cell_type": "code",
   "execution_count": null,
   "id": "942c1b64-bcb2-4d3a-ae24-ea5a9d398752",
   "metadata": {},
   "outputs": [],
   "source": [
    "# - medal tally for 2024 para olympics\n",
    "# who won maximum medal?\n",
    "# when it hosted this game?\n",
    "# can you summarise in bullet points\n",
    "# can you repeat the last question\n",
    "# sorry, i did not get it"
   ]
  },
  {
   "cell_type": "markdown",
   "id": "830001f4-d26b-4a6b-94d1-9fa77455a11f",
   "metadata": {},
   "source": [
    "### Try fixing this issue? - Rephrase question"
   ]
  },
  {
   "cell_type": "code",
   "execution_count": 270,
   "id": "b75408e3-dda1-4ce3-a1c9-2f3084a808f4",
   "metadata": {},
   "outputs": [],
   "source": [
    "### Contextualize question ###\n",
    "contextualize_q_system_prompt = (\n",
    "    \"Given a chat history and the latest user question \"\n",
    "    \"which might reference context in the chat history, \"\n",
    "    \"formulate a standalone question which can be understood \"\n",
    "    \"without the chat history. Do NOT answer the question, \"\n",
    "    \"just reformulate it if needed and otherwise return it as is.\"\n",
    ")\n",
    "contextualize_q_prompt = ChatPromptTemplate.from_messages(\n",
    "    [\n",
    "        (\"system\", contextualize_q_system_prompt),\n",
    "        MessagesPlaceholder(\"chat_history\"),\n",
    "        (\"human\", \"{question}\"),\n",
    "    ]\n",
    ")\n",
    "\n",
    "rephrase_chain = contextualize_q_prompt | llm | StrOutputParser()"
   ]
  },
  {
   "cell_type": "code",
   "execution_count": 271,
   "id": "dba22979-9537-4b4c-8f98-ba5279e18511",
   "metadata": {},
   "outputs": [],
   "source": [
    "retrieval = RunnableParallel(\n",
    "    {\"context\": rephrase_chain | retriever, \"question\": itemgetter(\"question\") , \"chat_history\": itemgetter(\"chat_history\")}\n",
    ")\n",
    "\n",
    "rag_chain_rephrase = retrieval | prompt | llm  | StrOutputParser() "
   ]
  },
  {
   "cell_type": "code",
   "execution_count": 272,
   "id": "30213d51-af78-439d-9540-09257366685a",
   "metadata": {},
   "outputs": [
    {
     "data": {
      "text/plain": [
       "'China won the maximum number of medals at the Paris 2024 Paralympics, with a total of 220 medals, including 94 gold, 76 silver, and 50 bronze.'"
      ]
     },
     "execution_count": 272,
     "metadata": {},
     "output_type": "execute_result"
    }
   ],
   "source": [
    "rag_chain_rephrase.invoke({\"question\":\"who won maximum medal?\", \"chat_history\":memory.load_memory_variables({})['chat_history']})"
   ]
  },
  {
   "cell_type": "code",
   "execution_count": null,
   "id": "0de19ce5-f34f-4f48-9b9c-065cce4782ae",
   "metadata": {},
   "outputs": [],
   "source": [
    "## issue after rephrasing, documents found but model did not account complete context before answering it."
   ]
  },
  {
   "cell_type": "code",
   "execution_count": null,
   "id": "85e1dccd-4736-40e0-9a8c-cc5cd22feae3",
   "metadata": {},
   "outputs": [],
   "source": []
  },
  {
   "cell_type": "markdown",
   "id": "c6f827bc-a663-4308-9f4b-6516976fee25",
   "metadata": {},
   "source": [
    "### 2: Issue with tight coupling of RAG components"
   ]
  },
  {
   "cell_type": "markdown",
   "id": "5aca2bf4-d30c-46d6-b5e3-7f1dd8024e64",
   "metadata": {},
   "source": [
    "# Agents"
   ]
  },
  {
   "cell_type": "markdown",
   "id": "ffc59b79-fb20-46fd-bd78-f2fdcf1e9c16",
   "metadata": {},
   "source": [
    "## Create tools"
   ]
  },
  {
   "cell_type": "code",
   "execution_count": 273,
   "id": "d053b9e6-7fff-438e-b53c-091d5bfebb08",
   "metadata": {},
   "outputs": [],
   "source": [
    "# get year of hosting and place of hosting by country name\n",
    "def get_paralympic_game(country):\n",
    "    with open('para_olympics.json') as file:\n",
    "        data = json.load(file)\n",
    "    \n",
    "    print('data', data)\n",
    "    for game in data['games']:\n",
    "        if game['country'] == country:\n",
    "            return game\n",
    "    \n",
    "    return None"
   ]
  },
  {
   "cell_type": "code",
   "execution_count": 274,
   "id": "cc68067f-dd68-427e-ab68-2015029a5b82",
   "metadata": {},
   "outputs": [],
   "source": [
    "# get medal tally by country name\n",
    "def get_medal_tally_by_country(country):\n",
    "    with open('medal.json') as file:\n",
    "        data = json.load(file)\n",
    "    \n",
    "    for row in data['medal_tally']:\n",
    "        if row['country'].lower() == country.lower():\n",
    "            return row\n",
    "    return None"
   ]
  },
  {
   "cell_type": "markdown",
   "id": "f5216178-ee90-4146-8acf-baaac427f991",
   "metadata": {},
   "source": [
    "### retriever tool"
   ]
  },
  {
   "cell_type": "code",
   "execution_count": 275,
   "id": "d2afbb1a-7ea4-419d-bf40-529104d670b9",
   "metadata": {},
   "outputs": [],
   "source": [
    "# tools\n",
    "\n",
    "class SearchInput(BaseModel):\n",
    "    question: str = Field(description=\"Rephrased Question from the given chat history\")\n",
    "\n",
    "\n",
    "class RetrieverTool(BaseTool):\n",
    "    name = \"retriever_tool\"\n",
    "    description = \"This tool is useful to answer question related to Para olympics history, signficance, sport highlights, paris 2024 paraolympics event etc\"\n",
    "    args_schema: Type[BaseModel] = SearchInput\n",
    "\n",
    "    def _run(\n",
    "        self, question: str, run_manager: Optional[CallbackManagerForToolRun] = None\n",
    "    ) -> str:\n",
    "        \"\"\"Use the tool.\"\"\"\n",
    "        return retriever.invoke(question)\n",
    "    \n",
    "\n",
    "    async def _arun(\n",
    "        self, query: str, run_manager: Optional[AsyncCallbackManagerForToolRun] = None\n",
    "    ) -> str:\n",
    "        \"\"\"Use the tool asynchronously.\"\"\"\n",
    "        raise NotImplementedError(\"document_retriever_tool does not support async\")"
   ]
  },
  {
   "cell_type": "markdown",
   "id": "74cdbb93-b9e2-4bce-8d9c-cb3636176396",
   "metadata": {},
   "source": [
    "### get country hosting"
   ]
  },
  {
   "cell_type": "code",
   "execution_count": 276,
   "id": "801ed226-7f71-4e6d-bdb7-cd8e6ac7f046",
   "metadata": {},
   "outputs": [],
   "source": [
    "# tools\n",
    "\n",
    "class Country(BaseModel):\n",
    "    country: str = Field(description=\"Name of the country\")\n",
    "\n",
    "\n",
    "class CountryHosting(BaseTool):\n",
    "    name = \"country_hosting\"\n",
    "    description = \"This tool is useful to answer questions related to country hosted para olympics games. It provide list of country which has hosted para olympics game \"\n",
    "    args_schema: Type[BaseModel] = Country\n",
    "\n",
    "    def _run(\n",
    "        self, country: str, run_manager: Optional[CallbackManagerForToolRun] = None\n",
    "    ) -> str:\n",
    "        \"\"\"Use the tool.\"\"\"\n",
    "        result = get_paralympic_game(country)\n",
    "        if result:\n",
    "            return str(result)\n",
    "        else:\n",
    "            \"No information found\"\n",
    "    \n",
    "\n",
    "    async def _arun(\n",
    "        self, query: str, run_manager: Optional[AsyncCallbackManagerForToolRun] = None\n",
    "    ) -> str:\n",
    "        \"\"\"Use the tool asynchronously.\"\"\"\n",
    "        raise NotImplementedError(\"document_retriever_tool does not support async\")"
   ]
  },
  {
   "cell_type": "markdown",
   "id": "4450e7ee-3135-488c-b2c9-24403848d97f",
   "metadata": {},
   "source": [
    "### get country by medal"
   ]
  },
  {
   "cell_type": "code",
   "execution_count": 277,
   "id": "b6910e09-7eb8-4f66-89b1-a1050cb8f5ba",
   "metadata": {},
   "outputs": [],
   "source": [
    "# tools\n",
    "\n",
    "class Country(BaseModel):\n",
    "    country: str = Field(description=\"Name of the country\")\n",
    "\n",
    "\n",
    "class CountryMedalTally(BaseTool):\n",
    "    name = \"country_medal_tally\"\n",
    "    description = \"This tool is useful to answer questions related to para olympics medal tally. It provides information about country wining medals in paris para olympics games in 2024 \"\n",
    "    args_schema: Type[BaseModel] = Country\n",
    "\n",
    "    def _run(\n",
    "        self, country: str, run_manager: Optional[CallbackManagerForToolRun] = None\n",
    "    ) -> str:\n",
    "        \"\"\"Use the tool.\"\"\"\n",
    "        result = get_medal_tally_by_country(country)\n",
    "        if result:\n",
    "            return str(result)\n",
    "        else:\n",
    "            \"No information found\"\n",
    "    \n",
    "\n",
    "    async def _arun(\n",
    "        self, query: str, run_manager: Optional[AsyncCallbackManagerForToolRun] = None\n",
    "    ) -> str:\n",
    "        \"\"\"Use the tool asynchronously.\"\"\"\n",
    "        raise NotImplementedError(\"document_retriever_tool does not support async\")"
   ]
  },
  {
   "cell_type": "markdown",
   "id": "fee49b87-c704-40a6-b620-c5d2a9ff5428",
   "metadata": {},
   "source": [
    "### list of tools available for agent to take action"
   ]
  },
  {
   "cell_type": "code",
   "execution_count": 278,
   "id": "9ada0843-0436-45d6-b3f0-5b4ead97bf38",
   "metadata": {},
   "outputs": [],
   "source": [
    "tools =[RetrieverTool(), CountryHosting(), CountryMedalTally()]"
   ]
  },
  {
   "cell_type": "markdown",
   "id": "ea108a4e-5862-4d32-889a-de61de948a7d",
   "metadata": {},
   "source": [
    "### agent configuration"
   ]
  },
  {
   "cell_type": "code",
   "execution_count": 279,
   "id": "614e3fab-1445-42a5-8a44-6269de258e50",
   "metadata": {},
   "outputs": [],
   "source": [
    "template = '''Answer the following questions as best you can. You have access to the following tools:\n",
    "            {tools}\n",
    "\n",
    "            Use the following format:\n",
    "\n",
    "            Question: the input question you must answer\n",
    "            Thought: you should always think about what to do\n",
    "            Action: the action to take, should be one of [{tool_names}]\n",
    "            Action Input: the input to the action\n",
    "            Observation: the result of the action\n",
    "            ... (this Thought/Action/Action Input/Observation can repeat N times)\n",
    "            Thought: I now know the final answer\n",
    "            Final Answer: the final answer to the original input question\n",
    "\n",
    "            You need to first look to the conversation history if the question can be answered with 100% confidence or take refrence of conversation history to analyse/rephrase question and then use proper tools to answer the question\n",
    "\n",
    "            Begin!\n",
    "\n",
    "            Conversation history: {chat_history}\n",
    "\n",
    "            Question: {input}\n",
    "            Thought:{agent_scratchpad}'''\n",
    "\n",
    "prompt = PromptTemplate.from_template(template)"
   ]
  },
  {
   "cell_type": "code",
   "execution_count": 280,
   "id": "ef198a68-83cb-4c3b-8032-3aa5d3bcf30a",
   "metadata": {},
   "outputs": [],
   "source": [
    "# ReAct Agent\n",
    "react_agent = create_react_agent(llm, tools, prompt)"
   ]
  },
  {
   "cell_type": "code",
   "execution_count": 281,
   "id": "9f880523-5384-4622-a3c3-ca752832a685",
   "metadata": {},
   "outputs": [],
   "source": [
    "agent_executor = AgentExecutor(agent=react_agent, tools=tools, verbose=True, memory=memory, early_stopping_method='force',\n",
    "                                       handle_parsing_errors=True, max_iterations=3)"
   ]
  },
  {
   "cell_type": "markdown",
   "id": "907a8371-6475-4867-bb31-88dbb8b8da5e",
   "metadata": {},
   "source": [
    "## Agent based Q&A App "
   ]
  },
  {
   "cell_type": "code",
   "execution_count": 282,
   "id": "152c66d2-1125-4d7e-9654-b9d4ff48196c",
   "metadata": {},
   "outputs": [
    {
     "name": "stdin",
     "output_type": "stream",
     "text": [
      "Enter question for Para Olympics 2024  (press 'q' to quit):  q\n"
     ]
    },
    {
     "name": "stdout",
     "output_type": "stream",
     "text": [
      "Exiting the app\n"
     ]
    }
   ],
   "source": [
    "user_input = \"\"\n",
    "while user_input != \"q\":\n",
    "    user_input = input(\"Enter question for Para Olympics 2024  (press 'q' to quit): \")\n",
    "    if user_input == \"q\":\n",
    "        memory.clear()\n",
    "        print('Exiting the app')\n",
    "        break\n",
    "    agent_result = agent_executor.invoke({\"input\":user_input, \"chat_history\":memory.load_memory_variables({})['chat_history']})\n",
    "    print(\"\\n==============Result======================\\n\", agent_result['output'])"
   ]
  },
  {
   "cell_type": "code",
   "execution_count": 205,
   "id": "31cbf21b-ce7a-435e-9098-a18aba776469",
   "metadata": {},
   "outputs": [],
   "source": [
    "\n",
    "# how many gold medal china won?\n",
    "# when it hosted this game?\n",
    "# history of this game?\n",
    "# can you summarise the question in three bullet points\n",
    "# can you repeat the last question\n",
    "\n",
    "# show agent thought and scratch pad and how its repharsing question automatically to find something"
   ]
  },
  {
   "cell_type": "code",
   "execution_count": null,
   "id": "1faa4ca0-ab42-4372-a26f-d4b4b8651979",
   "metadata": {},
   "outputs": [],
   "source": []
  }
 ],
 "metadata": {
  "kernelspec": {
   "display_name": "My Venv",
   "language": "python",
   "name": "venv"
  },
  "language_info": {
   "codemirror_mode": {
    "name": "ipython",
    "version": 3
   },
   "file_extension": ".py",
   "mimetype": "text/x-python",
   "name": "python",
   "nbconvert_exporter": "python",
   "pygments_lexer": "ipython3",
   "version": "3.12.0"
  }
 },
 "nbformat": 4,
 "nbformat_minor": 5
}
